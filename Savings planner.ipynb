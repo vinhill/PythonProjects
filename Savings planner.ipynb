{
 "cells": [
  {
   "cell_type": "code",
   "execution_count": 89,
   "metadata": {},
   "outputs": [],
   "source": [
    "import requests\n",
    "import xml.etree.ElementTree as ET\n",
    "import numpy as np\n",
    "import matplotlib.pyplot as plt\n",
    "import pandas as pd"
   ]
  },
  {
   "cell_type": "code",
   "execution_count": 78,
   "metadata": {},
   "outputs": [],
   "source": [
    "def lohnsteuer(brutto, stkl=1):\n",
    "    brutto_ct = int(brutto * 100)\n",
    "    url = f\"https://www.bmf-steuerrechner.de/interface/2023Version1.xhtml?code=ext2023&LZZ=1&RE4={brutto_ct}&STKL={stkl}\"\n",
    "    r = requests.get(url)\n",
    "    root = ET.fromstring(r.text)\n",
    "    lz = root.find(\"ausgaben/ausgabe[@name='LSTLZZ']\")\n",
    "    sol = root.find(\"ausgaben/ausgabe[@name='SOLZLZZ']\")\n",
    "    return {\n",
    "        \"lohnsteuer\": int(lz.attrib[\"value\"]) / 100,\n",
    "        \"solz\": int(sol.attrib[\"value\"]) / 100,\n",
    "    }"
   ]
  },
  {
   "cell_type": "code",
   "execution_count": 82,
   "metadata": {},
   "outputs": [],
   "source": [
    "def rv(brutto):\n",
    "    return min(7300*12, brutto) * 9.3 * 0.01\n",
    "\n",
    "def av(brutto):\n",
    "    return min(7300*12, brutto) * 1.3 * 0.01\n",
    "\n",
    "def kv(brutto, zkv=1.2):\n",
    "    return min(59850, brutto) * (zkv+14.6)/2 * 0.01\n",
    "\n",
    "def pv(brutto, kinderlos=True):\n",
    "    return min(59850, brutto) * (3.05+0.35*kinderlos)/2 * 0.01"
   ]
  },
  {
   "cell_type": "code",
   "execution_count": 104,
   "metadata": {},
   "outputs": [],
   "source": [
    "def netto(brutto, zkv=1.2, stkl=1, kinderlos=True):\n",
    "    _rv = rv(brutto)\n",
    "    _kv = kv(brutto, zkv)\n",
    "    _pv = pv(brutto, kinderlos)\n",
    "    _av = av(brutto)\n",
    "    st = lohnsteuer(brutto, stkl)\n",
    "    _lst = st[\"lohnsteuer\"]\n",
    "    _sol = st[\"solz\"]\n",
    "    return {\n",
    "        \"brutto\": brutto,\n",
    "        \"rv\": _rv,\n",
    "        \"av\": _av,\n",
    "        \"lst\": _lst,\n",
    "        \"solz\": _sol,\n",
    "        \"kv\": _kv,\n",
    "        \"pv\": _pv,\n",
    "        \"netto\": brutto - _rv - _kv - _pv - _av - _lst - _sol,\n",
    "    }"
   ]
  },
  {
   "cell_type": "code",
   "execution_count": 105,
   "metadata": {},
   "outputs": [
    {
     "data": {
      "text/plain": [
       "{'brutto': 250000,\n",
       " 'rv': 8146.800000000001,\n",
       " 'av': 1138.8,\n",
       " 'lst': 88930.0,\n",
       " 'solz': 4891.15,\n",
       " 'kv': 4728.15,\n",
       " 'pv': 1017.45,\n",
       " 'netto': 141147.65000000002}"
      ]
     },
     "execution_count": 105,
     "metadata": {},
     "output_type": "execute_result"
    }
   ],
   "source": [
    "netto(250000)"
   ]
  },
  {
   "cell_type": "code",
   "execution_count": 154,
   "metadata": {},
   "outputs": [],
   "source": [
    "startalter = 24\n",
    "endalter = 100\n",
    "inflation = 1.02\n",
    "rendite = 1.04\n",
    "rente = 2000\n",
    "rentenalter = 63\n",
    "startkap = 40000\n",
    "sparrate = 0.20\n",
    "\n",
    "def ek_m(age):\n",
    "    if age < 27:\n",
    "        return 4000\n",
    "    elif age < 50:\n",
    "        return 6000\n",
    "    else:\n",
    "        return 8000\n",
    "\n",
    "ek_j = lambda ek_m: ek_m * 12"
   ]
  },
  {
   "cell_type": "code",
   "execution_count": 155,
   "metadata": {},
   "outputs": [],
   "source": [
    "kap = startkap\n",
    "work = []\n",
    "for age in np.arange(startalter, rentenalter):\n",
    "    kap *= rendite\n",
    "    ekm = ek_m(age)\n",
    "    ekj = ek_j(ekm)\n",
    "    abgaben = netto(ekj)\n",
    "    sparen = ekj * sparrate\n",
    "    rest = abgaben[\"netto\"] - sparen\n",
    "    rest_infl = rest * pow(inflation, age-startalter)\n",
    "    kap += rest_infl * sparrate\n",
    "    work += [{\n",
    "        \"Alter\": age,\n",
    "        \"Kapital\": kap,\n",
    "        \"Brutto (m)\": ekm,\n",
    "        \"Abgaben (m)\": ekm-abgaben[\"netto\"]/12,\n",
    "        \"Sparen (m)\": sparen / 12,\n",
    "        \"Rest (m)\": rest / 12,\n",
    "        \"Rest infl (m)\": rest_infl / 12,\n",
    "    }]"
   ]
  },
  {
   "cell_type": "code",
   "execution_count": 156,
   "metadata": {},
   "outputs": [],
   "source": [
    "kap = work[-1][\"Kapital\"]\n",
    "retire = []\n",
    "for age in np.arange(rentenalter, endalter):\n",
    "    kap *= rendite\n",
    "    rente_jinfl = rente * 12 * pow(inflation, age-startalter)\n",
    "    kap -= rente_jinfl\n",
    "    retire += [{\n",
    "        \"Alter\": age,\n",
    "        \"Kapital\": kap,\n",
    "        \"Brutto (m)\": rente,\n",
    "        \"Abgaben (m)\": 0,\n",
    "        \"Sparen (m)\": 0,\n",
    "        \"Rest (m)\": rente,\n",
    "        \"Rest infl (m)\": rente_jinfl / 12,\n",
    "    }]"
   ]
  },
  {
   "cell_type": "code",
   "execution_count": 158,
   "metadata": {},
   "outputs": [
    {
     "name": "stdout",
     "output_type": "stream",
     "text": [
      "{'Alter': 24, 'Kapital': 45894.8, 'Brutto (m)': 4000, 'Abgaben (m)': 1410.5, 'Sparen (m)': 800.0, 'Rest (m)': 1789.5, 'Rest infl (m)': 1789.5}\n",
      "{'Alter': 25, 'Kapital': 53731.12960000001, 'Brutto (m)': 6000, 'Abgaben (m)': 2348.7999999999997, 'Sparen (m)': 1200.0, 'Rest (m)': 2451.2000000000003, 'Rest infl (m)': 2500.224}\n",
      "{'Alter': 26, 'Kapital': 62000.923136000005, 'Brutto (m)': 6000, 'Abgaben (m)': 2348.7999999999997, 'Sparen (m)': 1200.0, 'Rest (m)': 2451.2000000000003, 'Rest infl (m)': 2550.22848}\n",
      "{'Alter': 27, 'Kapital': 70723.91938048, 'Brutto (m)': 6000, 'Abgaben (m)': 2348.7999999999997, 'Sparen (m)': 1200.0, 'Rest (m)': 2451.2000000000003, 'Rest infl (m)': 2601.2330496000004}\n",
      "{'Alter': 28, 'Kapital': 79920.69466112001, 'Brutto (m)': 6000, 'Abgaben (m)': 2348.7999999999997, 'Sparen (m)': 1200.0, 'Rest (m)': 2451.2000000000003, 'Rest infl (m)': 2653.257710592}\n",
      "{'Alter': 29, 'Kapital': 89612.69732309403, 'Brutto (m)': 6000, 'Abgaben (m)': 2348.7999999999997, 'Sparen (m)': 1200.0, 'Rest (m)': 2451.2000000000003, 'Rest infl (m)': 2706.3228648038403}\n",
      "{'Alter': 30, 'Kapital': 99822.2835890576, 'Brutto (m)': 6000, 'Abgaben (m)': 2348.7999999999997, 'Sparen (m)': 1200.0, 'Rest (m)': 2451.2000000000003, 'Rest infl (m)': 2760.449322099917}\n",
      "{'Alter': 31, 'Kapital': 110572.7548731205, 'Brutto (m)': 6000, 'Abgaben (m)': 2348.7999999999997, 'Sparen (m)': 1200.0, 'Rest (m)': 2451.2000000000003, 'Rest infl (m)': 2815.658308541915}\n",
      "{'Alter': 32, 'Kapital': 121888.39660735594, 'Brutto (m)': 6000, 'Abgaben (m)': 2348.7999999999997, 'Sparen (m)': 1200.0, 'Rest (m)': 2451.2000000000003, 'Rest infl (m)': 2871.971474712754}\n",
      "{'Alter': 33, 'Kapital': 133794.518641747, 'Brutto (m)': 6000, 'Abgaben (m)': 2348.7999999999997, 'Sparen (m)': 1200.0, 'Rest (m)': 2451.2000000000003, 'Rest infl (m)': 2929.410904207009}\n",
      "{'Alter': 34, 'Kapital': 146317.49728091565, 'Brutto (m)': 6000, 'Abgaben (m)': 2348.7999999999997, 'Sparen (m)': 1200.0, 'Rest (m)': 2451.2000000000003, 'Rest infl (m)': 2987.999122291149}\n",
      "{'Alter': 35, 'Kapital': 159484.819023521, 'Brutto (m)': 6000, 'Abgaben (m)': 2348.7999999999997, 'Sparen (m)': 1200.0, 'Rest (m)': 2451.2000000000003, 'Rest infl (m)': 3047.759104736972}\n",
      "{'Alter': 36, 'Kapital': 173325.12607285797, 'Brutto (m)': 6000, 'Abgaben (m)': 2348.7999999999997, 'Sparen (m)': 1200.0, 'Rest (m)': 2451.2000000000003, 'Rest infl (m)': 3108.7142868317114}\n",
      "{'Alter': 37, 'Kapital': 187868.2636899363, 'Brutto (m)': 6000, 'Abgaben (m)': 2348.7999999999997, 'Sparen (m)': 1200.0, 'Rest (m)': 2451.2000000000003, 'Rest infl (m)': 3170.8885725683463}\n",
      "{'Alter': 38, 'Kapital': 203145.3294631811, 'Brutto (m)': 6000, 'Abgaben (m)': 2348.7999999999997, 'Sparen (m)': 1200.0, 'Rest (m)': 2451.2000000000003, 'Rest infl (m)': 3234.306344019713}\n",
      "{'Alter': 39, 'Kapital': 219188.7245718686, 'Brutto (m)': 6000, 'Abgaben (m)': 2348.7999999999997, 'Sparen (m)': 1200.0, 'Rest (m)': 2451.2000000000003, 'Rest infl (m)': 3298.9924709001075}\n",
      "{'Alter': 40, 'Kapital': 236032.2071235068, 'Brutto (m)': 6000, 'Abgaben (m)': 2348.7999999999997, 'Sparen (m)': 1200.0, 'Rest (m)': 2451.2000000000003, 'Rest infl (m)': 3364.9723203181093}\n",
      "{'Alter': 41, 'Kapital': 253710.9476485858, 'Brutto (m)': 6000, 'Abgaben (m)': 2348.7999999999997, 'Sparen (m)': 1200.0, 'Rest (m)': 2451.2000000000003, 'Rest infl (m)': 3432.271766724472}\n",
      "{'Alter': 42, 'Kapital': 272261.5868394708, 'Brutto (m)': 6000, 'Abgaben (m)': 2348.7999999999997, 'Sparen (m)': 1200.0, 'Rest (m)': 2451.2000000000003, 'Rest infl (m)': 3500.9172020589613}\n",
      "{'Alter': 43, 'Kapital': 291722.29562368995, 'Brutto (m)': 6000, 'Abgaben (m)': 2348.7999999999997, 'Sparen (m)': 1200.0, 'Rest (m)': 2451.2000000000003, 'Rest infl (m)': 3570.935546100141}\n",
      "{'Alter': 44, 'Kapital': 312132.8376654907, 'Brutto (m)': 6000, 'Abgaben (m)': 2348.7999999999997, 'Sparen (m)': 1200.0, 'Rest (m)': 2451.2000000000003, 'Rest infl (m)': 3642.3542570221434}\n",
      "{'Alter': 45, 'Kapital': 333534.63439330057, 'Brutto (m)': 6000, 'Abgaben (m)': 2348.7999999999997, 'Sparen (m)': 1200.0, 'Rest (m)': 2451.2000000000003, 'Rest infl (m)': 3715.2013421625866}\n",
      "{'Alter': 46, 'Kapital': 355970.8326546466, 'Brutto (m)': 6000, 'Abgaben (m)': 2348.7999999999997, 'Sparen (m)': 1200.0, 'Rest (m)': 2451.2000000000003, 'Rest infl (m)': 3789.505369005838}\n",
      "{'Alter': 47, 'Kapital': 379486.37510415877, 'Brutto (m)': 6000, 'Abgaben (m)': 2348.7999999999997, 'Sparen (m)': 1200.0, 'Rest (m)': 2451.2000000000003, 'Rest infl (m)': 3865.2954763859557}\n",
      "{'Alter': 48, 'Kapital': 404128.07343451795, 'Brutto (m)': 6000, 'Abgaben (m)': 2348.7999999999997, 'Sparen (m)': 1200.0, 'Rest (m)': 2451.2000000000003, 'Rest infl (m)': 3942.6013859136747}\n",
      "{'Alter': 49, 'Kapital': 429944.68456461537, 'Brutto (m)': 6000, 'Abgaben (m)': 2348.7999999999997, 'Sparen (m)': 1200.0, 'Rest (m)': 2451.2000000000003, 'Rest infl (m)': 4021.4534136319476}\n",
      "{'Alter': 50, 'Kapital': 456986.989903771, 'Brutto (m)': 6000, 'Abgaben (m)': 2348.7999999999997, 'Sparen (m)': 1200.0, 'Rest (m)': 2451.2000000000003, 'Rest infl (m)': 4101.882481904587}\n",
      "{'Alter': 51, 'Kapital': 485307.87781562435, 'Brutto (m)': 6000, 'Abgaben (m)': 2348.7999999999997, 'Sparen (m)': 1200.0, 'Rest (m)': 2451.2000000000003, 'Rest infl (m)': 4183.920131542679}\n",
      "{'Alter': 52, 'Kapital': 514962.4294102659, 'Brutto (m)': 6000, 'Abgaben (m)': 2348.7999999999997, 'Sparen (m)': 1200.0, 'Rest (m)': 2451.2000000000003, 'Rest infl (m)': 4267.598534173533}\n",
      "{'Alter': 53, 'Kapital': 546008.0077983333, 'Brutto (m)': 6000, 'Abgaben (m)': 2348.7999999999997, 'Sparen (m)': 1200.0, 'Rest (m)': 2451.2000000000003, 'Rest infl (m)': 4352.950504857004}\n",
      "{'Alter': 54, 'Kapital': 578504.3509461567, 'Brutto (m)': 6000, 'Abgaben (m)': 2348.7999999999997, 'Sparen (m)': 1200.0, 'Rest (m)': 2451.2000000000003, 'Rest infl (m)': 4440.009514954144}\n",
      "{'Alter': 55, 'Kapital': 615213.4648240324, 'Brutto (m)': 8000, 'Abgaben (m)': 3339.944166666666, 'Sparen (m)': 1600.0, 'Rest (m)': 3060.055833333334, 'Rest infl (m)': 5653.724933345607}\n",
      "{'Alter': 56, 'Kapital': 653662.3220538237, 'Brutto (m)': 8000, 'Abgaben (m)': 3339.944166666666, 'Sparen (m)': 1600.0, 'Rest (m)': 3060.055833333334, 'Rest infl (m)': 5766.799432012518}\n",
      "{'Alter': 57, 'Kapital': 693925.9399455434, 'Brutto (m)': 8000, 'Abgaben (m)': 3339.944166666666, 'Sparen (m)': 1600.0, 'Rest (m)': 3060.055833333334, 'Rest infl (m)': 5882.1354206527685}\n",
      "{'Alter': 58, 'Kapital': 736082.4450531232, 'Brutto (m)': 8000, 'Abgaben (m)': 3339.944166666666, 'Sparen (m)': 1600.0, 'Rest (m)': 3060.055833333334, 'Rest infl (m)': 5999.778129065824}\n",
      "{'Alter': 59, 'Kapital': 780213.1997152013, 'Brutto (m)': 8000, 'Abgaben (m)': 3339.944166666666, 'Sparen (m)': 1600.0, 'Rest (m)': 3060.055833333334, 'Rest infl (m)': 6119.773691647141}\n",
      "{'Alter': 60, 'Kapital': 826402.9337009616, 'Brutto (m)': 8000, 'Abgaben (m)': 3339.944166666666, 'Sparen (m)': 1600.0, 'Rest (m)': 3060.055833333334, 'Rest infl (m)': 6242.169165480084}\n",
      "{'Alter': 61, 'Kapital': 874739.8811660954, 'Brutto (m)': 8000, 'Abgaben (m)': 3339.944166666666, 'Sparen (m)': 1600.0, 'Rest (m)': 3060.055833333334, 'Rest infl (m)': 6367.012548789687}\n",
      "{'Alter': 62, 'Kapital': 925315.9231321764, 'Brutto (m)': 8000, 'Abgaben (m)': 3339.944166666666, 'Sparen (m)': 1600.0, 'Rest (m)': 3060.055833333334, 'Rest infl (m)': 6494.352799765479}\n"
     ]
    }
   ],
   "source": [
    "for row in work:\n",
    "    print(row)"
   ]
  }
 ],
 "metadata": {
  "kernelspec": {
   "display_name": "Python 3",
   "language": "python",
   "name": "python3"
  },
  "language_info": {
   "codemirror_mode": {
    "name": "ipython",
    "version": 3
   },
   "file_extension": ".py",
   "mimetype": "text/x-python",
   "name": "python",
   "nbconvert_exporter": "python",
   "pygments_lexer": "ipython3",
   "version": "3.11.0"
  },
  "orig_nbformat": 4
 },
 "nbformat": 4,
 "nbformat_minor": 2
}
