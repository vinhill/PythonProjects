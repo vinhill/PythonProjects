{
 "cells": [
  {
   "cell_type": "code",
   "execution_count": 1,
   "metadata": {},
   "outputs": [],
   "source": [
    "import requests\n",
    "import xml.etree.ElementTree as ET\n",
    "import numpy as np\n",
    "import matplotlib.pyplot as plt\n",
    "import pandas as pd"
   ]
  },
  {
   "cell_type": "code",
   "execution_count": 2,
   "metadata": {},
   "outputs": [],
   "source": [
    "def lohnsteuer(brutto, stkl=1):\n",
    "    brutto_ct = int(brutto * 100)\n",
    "    url = f\"https://www.bmf-steuerrechner.de/interface/2023Version1.xhtml?code=ext2023&LZZ=1&RE4={brutto_ct}&STKL={stkl}\"\n",
    "    r = requests.get(url)\n",
    "    root = ET.fromstring(r.text)\n",
    "    lz = root.find(\"ausgaben/ausgabe[@name='LSTLZZ']\")\n",
    "    sol = root.find(\"ausgaben/ausgabe[@name='SOLZLZZ']\")\n",
    "    return {\n",
    "        \"lohnsteuer\": int(lz.attrib[\"value\"]) / 100,\n",
    "        \"solz\": int(sol.attrib[\"value\"]) / 100,\n",
    "    }"
   ]
  },
  {
   "cell_type": "code",
   "execution_count": 3,
   "metadata": {},
   "outputs": [],
   "source": [
    "def rv(brutto):\n",
    "    return min(7300*12, brutto) * 9.3 * 0.01\n",
    "\n",
    "def av(brutto):\n",
    "    return min(7300*12, brutto) * 1.3 * 0.01\n",
    "\n",
    "def kv(brutto, zkv=1.2):\n",
    "    return min(59850, brutto) * (zkv+14.6)/2 * 0.01\n",
    "\n",
    "def pv(brutto, kinderlos=True):\n",
    "    return min(59850, brutto) * (3.05+0.35*kinderlos)/2 * 0.01"
   ]
  },
  {
   "cell_type": "code",
   "execution_count": 4,
   "metadata": {},
   "outputs": [],
   "source": [
    "def netto(brutto, zkv=1.2, stkl=1, kinderlos=True):\n",
    "    _rv = rv(brutto)\n",
    "    _kv = kv(brutto, zkv)\n",
    "    _pv = pv(brutto, kinderlos)\n",
    "    _av = av(brutto)\n",
    "    st = lohnsteuer(brutto, stkl)\n",
    "    _lst = st[\"lohnsteuer\"]\n",
    "    _sol = st[\"solz\"]\n",
    "    return {\n",
    "        \"brutto\": brutto,\n",
    "        \"rv\": _rv,\n",
    "        \"av\": _av,\n",
    "        \"lst\": _lst,\n",
    "        \"solz\": _sol,\n",
    "        \"kv\": _kv,\n",
    "        \"pv\": _pv,\n",
    "        \"netto\": brutto - _rv - _kv - _pv - _av - _lst - _sol,\n",
    "    }"
   ]
  },
  {
   "cell_type": "code",
   "execution_count": 5,
   "metadata": {},
   "outputs": [
    {
     "data": {
      "text/plain": [
       "{'brutto': 250000,\n",
       " 'rv': 8146.800000000001,\n",
       " 'av': 1138.8,\n",
       " 'lst': 88930.0,\n",
       " 'solz': 4891.15,\n",
       " 'kv': 4728.15,\n",
       " 'pv': 1017.45,\n",
       " 'netto': 141147.65000000002}"
      ]
     },
     "execution_count": 5,
     "metadata": {},
     "output_type": "execute_result"
    }
   ],
   "source": [
    "netto(250000)"
   ]
  },
  {
   "cell_type": "code",
   "execution_count": 6,
   "metadata": {},
   "outputs": [],
   "source": [
    "startalter = 24\n",
    "endalter = 100\n",
    "inflation = 1.02\n",
    "rendite = 1.04\n",
    "rente = 2000\n",
    "rentenalter = 63\n",
    "startkap = 40000\n",
    "sparrate = 0.20\n",
    "\n",
    "def ek_m(age):\n",
    "    if age < 27:\n",
    "        return 4000\n",
    "    elif age < 50:\n",
    "        return 6000\n",
    "    else:\n",
    "        return 8000\n",
    "\n",
    "ek_j = lambda ek_m: ek_m * 12"
   ]
  },
  {
   "cell_type": "code",
   "execution_count": 7,
   "metadata": {},
   "outputs": [],
   "source": [
    "kap = startkap\n",
    "work = []\n",
    "for age in np.arange(startalter, rentenalter):\n",
    "    kap *= rendite\n",
    "    ekm = ek_m(age)\n",
    "    ekj = ek_j(ekm)\n",
    "    abgaben = netto(ekj)\n",
    "    sparen = ekj * sparrate\n",
    "    rest = abgaben[\"netto\"] - sparen\n",
    "    rest_infl = rest * pow(inflation, age-startalter)\n",
    "    kap += rest_infl * sparrate\n",
    "    work += [{\n",
    "        \"Alter\": age,\n",
    "        \"Kapital\": kap,\n",
    "        \"Brutto (m)\": ekm,\n",
    "        \"Abgaben (m)\": ekm-abgaben[\"netto\"]/12,\n",
    "        \"Sparen (m)\": sparen / 12,\n",
    "        \"Rest (m)\": rest / 12,\n",
    "        \"Rest infl (m)\": rest_infl / 12,\n",
    "    }]"
   ]
  },
  {
   "cell_type": "code",
   "execution_count": 8,
   "metadata": {},
   "outputs": [],
   "source": [
    "kap = work[-1][\"Kapital\"]\n",
    "retire = []\n",
    "for age in np.arange(rentenalter, endalter):\n",
    "    kap *= rendite\n",
    "    rente_jinfl = rente * 12 * pow(inflation, age-startalter)\n",
    "    kap -= rente_jinfl\n",
    "    retire += [{\n",
    "        \"Alter\": age,\n",
    "        \"Kapital\": kap,\n",
    "        \"Brutto (m)\": rente,\n",
    "        \"Abgaben (m)\": 0,\n",
    "        \"Sparen (m)\": 0,\n",
    "        \"Rest (m)\": rente,\n",
    "        \"Rest infl (m)\": rente_jinfl / 12,\n",
    "    }]"
   ]
  },
  {
   "cell_type": "code",
   "execution_count": 9,
   "metadata": {},
   "outputs": [
    {
     "name": "stdout",
     "output_type": "stream",
     "text": [
      "{'Alter': 24, 'Kapital': 45894.8, 'Brutto (m)': 4000, 'Abgaben (m)': 1410.5, 'Sparen (m)': 800.0, 'Rest (m)': 1789.5, 'Rest infl (m)': 1789.5}\n",
      "{'Alter': 25, 'Kapital': 52111.288, 'Brutto (m)': 4000, 'Abgaben (m)': 1410.5, 'Sparen (m)': 800.0, 'Rest (m)': 1789.5, 'Rest infl (m)': 1825.29}\n",
      "{'Alter': 26, 'Kapital': 58664.04944, 'Brutto (m)': 4000, 'Abgaben (m)': 1410.5, 'Sparen (m)': 800.0, 'Rest (m)': 1789.5, 'Rest infl (m)': 1861.7957999999999}\n",
      "{'Alter': 27, 'Kapital': 67253.57073664, 'Brutto (m)': 6000, 'Abgaben (m)': 2348.7999999999997, 'Sparen (m)': 1200.0, 'Rest (m)': 2451.2000000000003, 'Rest infl (m)': 2601.2330496000004}\n",
      "{'Alter': 28, 'Kapital': 76311.53207152641, 'Brutto (m)': 6000, 'Abgaben (m)': 2348.7999999999997, 'Sparen (m)': 1200.0, 'Rest (m)': 2451.2000000000003, 'Rest infl (m)': 2653.257710592}\n",
      "{'Alter': 29, 'Kapital': 85859.16822991669, 'Brutto (m)': 6000, 'Abgaben (m)': 2348.7999999999997, 'Sparen (m)': 1200.0, 'Rest (m)': 2451.2000000000003, 'Rest infl (m)': 2706.3228648038403}\n",
      "{'Alter': 30, 'Kapital': 95918.61333215315, 'Brutto (m)': 6000, 'Abgaben (m)': 2348.7999999999997, 'Sparen (m)': 1200.0, 'Rest (m)': 2451.2000000000003, 'Rest infl (m)': 2760.449322099917}\n",
      "{'Alter': 31, 'Kapital': 106512.93780593987, 'Brutto (m)': 6000, 'Abgaben (m)': 2348.7999999999997, 'Sparen (m)': 1200.0, 'Rest (m)': 2451.2000000000003, 'Rest infl (m)': 2815.658308541915}\n",
      "{'Alter': 32, 'Kapital': 117666.18685748808, 'Brutto (m)': 6000, 'Abgaben (m)': 2348.7999999999997, 'Sparen (m)': 1200.0, 'Rest (m)': 2451.2000000000003, 'Rest infl (m)': 2871.971474712754}\n",
      "{'Alter': 33, 'Kapital': 129403.42050188444, 'Brutto (m)': 6000, 'Abgaben (m)': 2348.7999999999997, 'Sparen (m)': 1200.0, 'Rest (m)': 2451.2000000000003, 'Rest infl (m)': 2929.410904207009}\n",
      "{'Alter': 34, 'Kapital': 141750.75521545857, 'Brutto (m)': 6000, 'Abgaben (m)': 2348.7999999999997, 'Sparen (m)': 1200.0, 'Rest (m)': 2451.2000000000003, 'Rest infl (m)': 2987.999122291149}\n",
      "{'Alter': 35, 'Kapital': 154735.40727544564, 'Brutto (m)': 6000, 'Abgaben (m)': 2348.7999999999997, 'Sparen (m)': 1200.0, 'Rest (m)': 2451.2000000000003, 'Rest infl (m)': 3047.759104736972}\n",
      "{'Alter': 36, 'Kapital': 168385.7378548596, 'Brutto (m)': 6000, 'Abgaben (m)': 2348.7999999999997, 'Sparen (m)': 1200.0, 'Rest (m)': 2451.2000000000003, 'Rest infl (m)': 3108.7142868317114}\n",
      "{'Alter': 37, 'Kapital': 182731.299943218, 'Brutto (m)': 6000, 'Abgaben (m)': 2348.7999999999997, 'Sparen (m)': 1200.0, 'Rest (m)': 2451.2000000000003, 'Rest infl (m)': 3170.8885725683463}\n",
      "{'Alter': 38, 'Kapital': 197802.88716659404, 'Brutto (m)': 6000, 'Abgaben (m)': 2348.7999999999997, 'Sparen (m)': 1200.0, 'Rest (m)': 2451.2000000000003, 'Rest infl (m)': 3234.306344019713}\n",
      "{'Alter': 39, 'Kapital': 213632.58458341807, 'Brutto (m)': 6000, 'Abgaben (m)': 2348.7999999999997, 'Sparen (m)': 1200.0, 'Rest (m)': 2451.2000000000003, 'Rest infl (m)': 3298.9924709001075}\n",
      "{'Alter': 40, 'Kapital': 230253.82153551825, 'Brutto (m)': 6000, 'Abgaben (m)': 2348.7999999999997, 'Sparen (m)': 1200.0, 'Rest (m)': 2451.2000000000003, 'Rest infl (m)': 3364.9723203181093}\n",
      "{'Alter': 41, 'Kapital': 247701.4266370777, 'Brutto (m)': 6000, 'Abgaben (m)': 2348.7999999999997, 'Sparen (m)': 1200.0, 'Rest (m)': 2451.2000000000003, 'Rest infl (m)': 3432.271766724472}\n",
      "{'Alter': 42, 'Kapital': 266011.68498750235, 'Brutto (m)': 6000, 'Abgaben (m)': 2348.7999999999997, 'Sparen (m)': 1200.0, 'Rest (m)': 2451.2000000000003, 'Rest infl (m)': 3500.9172020589613}\n",
      "{'Alter': 43, 'Kapital': 285222.39769764274, 'Brutto (m)': 6000, 'Abgaben (m)': 2348.7999999999997, 'Sparen (m)': 1200.0, 'Rest (m)': 2451.2000000000003, 'Rest infl (m)': 3570.935546100141}\n",
      "{'Alter': 44, 'Kapital': 305372.9438224016, 'Brutto (m)': 6000, 'Abgaben (m)': 2348.7999999999997, 'Sparen (m)': 1200.0, 'Rest (m)': 2451.2000000000003, 'Rest infl (m)': 3642.3542570221434}\n",
      "{'Alter': 45, 'Kapital': 326504.3447964879, 'Brutto (m)': 6000, 'Abgaben (m)': 2348.7999999999997, 'Sparen (m)': 1200.0, 'Rest (m)': 2451.2000000000003, 'Rest infl (m)': 3715.2013421625866}\n",
      "{'Alter': 46, 'Kapital': 348659.3314739614, 'Brutto (m)': 6000, 'Abgaben (m)': 2348.7999999999997, 'Sparen (m)': 1200.0, 'Rest (m)': 2451.2000000000003, 'Rest infl (m)': 3789.505369005838}\n",
      "{'Alter': 47, 'Kapital': 371882.41387624614, 'Brutto (m)': 6000, 'Abgaben (m)': 2348.7999999999997, 'Sparen (m)': 1200.0, 'Rest (m)': 2451.2000000000003, 'Rest infl (m)': 3865.2954763859557}\n",
      "{'Alter': 48, 'Kapital': 396219.9537574888, 'Brutto (m)': 6000, 'Abgaben (m)': 2348.7999999999997, 'Sparen (m)': 1200.0, 'Rest (m)': 2451.2000000000003, 'Rest infl (m)': 3942.6013859136747}\n",
      "{'Alter': 49, 'Kapital': 421720.24010050506, 'Brutto (m)': 6000, 'Abgaben (m)': 2348.7999999999997, 'Sparen (m)': 1200.0, 'Rest (m)': 2451.2000000000003, 'Rest infl (m)': 4021.4534136319476}\n",
      "{'Alter': 50, 'Kapital': 450878.85657436855, 'Brutto (m)': 8000, 'Abgaben (m)': 3339.944166666666, 'Sparen (m)': 1600.0, 'Rest (m)': 3060.055833333334, 'Rest infl (m)': 5120.752862434702}\n",
      "{'Alter': 51, 'Kapital': 481449.61384458345, 'Brutto (m)': 8000, 'Abgaben (m)': 3339.944166666666, 'Sparen (m)': 1600.0, 'Rest (m)': 3060.055833333334, 'Rest infl (m)': 5223.167919683397}\n",
      "{'Alter': 52, 'Kapital': 513493.9134657518, 'Brutto (m)': 8000, 'Abgaben (m)': 3339.944166666666, 'Sparen (m)': 1600.0, 'Rest (m)': 3060.055833333334, 'Rest infl (m)': 5327.631278077065}\n",
      "{'Alter': 53, 'Kapital': 547075.7113731146, 'Brutto (m)': 8000, 'Abgaben (m)': 3339.944166666666, 'Sparen (m)': 1600.0, 'Rest (m)': 3060.055833333334, 'Rest infl (m)': 5434.183903638606}\n",
      "{'Alter': 54, 'Kapital': 582261.6220241465, 'Brutto (m)': 8000, 'Abgaben (m)': 3339.944166666666, 'Sparen (m)': 1600.0, 'Rest (m)': 3060.055833333334, 'Rest infl (m)': 5542.867581711379}\n",
      "{'Alter': 55, 'Kapital': 619121.0267451418, 'Brutto (m)': 8000, 'Abgaben (m)': 3339.944166666666, 'Sparen (m)': 1600.0, 'Rest (m)': 3060.055833333334, 'Rest infl (m)': 5653.724933345607}\n",
      "{'Alter': 56, 'Kapital': 657726.1864517776, 'Brutto (m)': 8000, 'Abgaben (m)': 3339.944166666666, 'Sparen (m)': 1600.0, 'Rest (m)': 3060.055833333334, 'Rest infl (m)': 5766.799432012518}\n",
      "{'Alter': 57, 'Kapital': 698152.3589194154, 'Brutto (m)': 8000, 'Abgaben (m)': 3339.944166666666, 'Sparen (m)': 1600.0, 'Rest (m)': 3060.055833333334, 'Rest infl (m)': 5882.1354206527685}\n",
      "{'Alter': 58, 'Kapital': 740477.92078595, 'Brutto (m)': 8000, 'Abgaben (m)': 3339.944166666666, 'Sparen (m)': 1600.0, 'Rest (m)': 3060.055833333334, 'Rest infl (m)': 5999.778129065824}\n",
      "{'Alter': 59, 'Kapital': 784784.4944773412, 'Brutto (m)': 8000, 'Abgaben (m)': 3339.944166666666, 'Sparen (m)': 1600.0, 'Rest (m)': 3060.055833333334, 'Rest infl (m)': 6119.773691647141}\n",
      "{'Alter': 60, 'Kapital': 831157.0802535871, 'Brutto (m)': 8000, 'Abgaben (m)': 3339.944166666666, 'Sparen (m)': 1600.0, 'Rest (m)': 3060.055833333334, 'Rest infl (m)': 6242.169165480084}\n",
      "{'Alter': 61, 'Kapital': 879684.1935808259, 'Brutto (m)': 8000, 'Abgaben (m)': 3339.944166666666, 'Sparen (m)': 1600.0, 'Rest (m)': 3060.055833333334, 'Rest infl (m)': 6367.012548789687}\n",
      "{'Alter': 62, 'Kapital': 930458.0080434962, 'Brutto (m)': 8000, 'Abgaben (m)': 3339.944166666666, 'Sparen (m)': 1600.0, 'Rest (m)': 3060.055833333334, 'Rest infl (m)': 6494.352799765479}\n"
     ]
    }
   ],
   "source": [
    "for row in work:\n",
    "    print(row)"
   ]
  },
  {
   "cell_type": "code",
   "execution_count": 10,
   "metadata": {},
   "outputs": [
    {
     "name": "stdout",
     "output_type": "stream",
     "text": [
      "{'Alter': 63, 'Kapital': 915722.4539272395, 'Brutto (m)': 2000, 'Abgaben (m)': 0, 'Sparen (m)': 0, 'Rest (m)': 2000, 'Rest infl (m)': 4329.489536499713}\n",
      "{'Alter': 64, 'Kapital': 899358.4001575726, 'Brutto (m)': 2000, 'Abgaben (m)': 0, 'Sparen (m)': 0, 'Rest (m)': 2000, 'Rest infl (m)': 4416.079327229707}\n",
      "{'Alter': 65, 'Kapital': 881279.925198584, 'Brutto (m)': 2000, 'Abgaben (m)': 0, 'Sparen (m)': 0, 'Rest (m)': 2000, 'Rest infl (m)': 4504.400913774302}\n",
      "{'Alter': 66, 'Kapital': 861397.25502193, 'Brutto (m)': 2000, 'Abgaben (m)': 0, 'Sparen (m)': 0, 'Rest (m)': 2000, 'Rest infl (m)': 4594.488932049788}\n",
      "{'Alter': 67, 'Kapital': 839616.6006945178, 'Brutto (m)': 2000, 'Abgaben (m)': 0, 'Sparen (m)': 0, 'Rest (m)': 2000, 'Rest infl (m)': 4686.378710690784}\n",
      "{'Alter': 68, 'Kapital': 815839.9893034433, 'Brutto (m)': 2000, 'Abgaben (m)': 0, 'Sparen (m)': 0, 'Rest (m)': 2000, 'Rest infl (m)': 4780.106284904599}\n",
      "{'Alter': 69, 'Kapital': 789965.0879483488, 'Brutto (m)': 2000, 'Abgaben (m)': 0, 'Sparen (m)': 0, 'Rest (m)': 2000, 'Rest infl (m)': 4875.708410602691}\n",
      "{'Alter': 70, 'Kapital': 761885.0205205058, 'Brutto (m)': 2000, 'Abgaben (m)': 0, 'Sparen (m)': 0, 'Rest (m)': 2000, 'Rest infl (m)': 4973.222578814745}\n",
      "{'Alter': 71, 'Kapital': 731488.1769766336, 'Brutto (m)': 2000, 'Abgaben (m)': 0, 'Sparen (m)': 0, 'Rest (m)': 2000, 'Rest infl (m)': 5072.68703039104}\n",
      "{'Alter': 72, 'Kapital': 698658.0148037126, 'Brutto (m)': 2000, 'Abgaben (m)': 0, 'Sparen (m)': 0, 'Rest (m)': 2000, 'Rest infl (m)': 5174.140770998862}\n",
      "{'Alter': 73, 'Kapital': 663272.8523588352, 'Brutto (m)': 2000, 'Abgaben (m)': 0, 'Sparen (m)': 0, 'Rest (m)': 2000, 'Rest infl (m)': 5277.623586418839}\n",
      "{'Alter': 74, 'Kapital': 625205.653755422, 'Brutto (m)': 2000, 'Abgaben (m)': 0, 'Sparen (m)': 0, 'Rest (m)': 2000, 'Rest infl (m)': 5383.176058147215}\n",
      "{'Alter': 75, 'Kapital': 584323.8049539169, 'Brutto (m)': 2000, 'Abgaben (m)': 0, 'Sparen (m)': 0, 'Rest (m)': 2000, 'Rest infl (m)': 5490.83957931016}\n",
      "{'Alter': 76, 'Kapital': 540488.8807013173, 'Brutto (m)': 2000, 'Abgaben (m)': 0, 'Sparen (m)': 0, 'Rest (m)': 2000, 'Rest infl (m)': 5600.656370896363}\n",
      "{'Alter': 77, 'Kapital': 493556.4019495985, 'Brutto (m)': 2000, 'Abgaben (m)': 0, 'Sparen (m)': 0, 'Rest (m)': 2000, 'Rest infl (m)': 5712.669498314291}\n",
      "{'Alter': 78, 'Kapital': 443375.58336821554, 'Brutto (m)': 2000, 'Abgaben (m)': 0, 'Sparen (m)': 0, 'Rest (m)': 2000, 'Rest infl (m)': 5826.922888280576}\n",
      "{'Alter': 79, 'Kapital': 389789.0705503899, 'Brutto (m)': 2000, 'Abgaben (m)': 0, 'Sparen (m)': 0, 'Rest (m)': 2000, 'Rest infl (m)': 5943.461346046188}\n",
      "{'Alter': 80, 'Kapital': 332632.66649680014, 'Brutto (m)': 2000, 'Abgaben (m)': 0, 'Sparen (m)': 0, 'Rest (m)': 2000, 'Rest infl (m)': 6062.330572967112}\n",
      "{'Alter': 81, 'Kapital': 271735.0469435547, 'Brutto (m)': 2000, 'Abgaben (m)': 0, 'Sparen (m)': 0, 'Rest (m)': 2000, 'Rest infl (m)': 6183.577184426454}\n",
      "{'Alter': 82, 'Kapital': 206917.4640839171, 'Brutto (m)': 2000, 'Abgaben (m)': 0, 'Sparen (m)': 0, 'Rest (m)': 2000, 'Rest infl (m)': 6307.248728114984}\n",
      "{'Alter': 83, 'Kapital': 137993.43821514637, 'Brutto (m)': 2000, 'Abgaben (m)': 0, 'Sparen (m)': 0, 'Rest (m)': 2000, 'Rest infl (m)': 6433.393702677284}\n",
      "{'Alter': 84, 'Kapital': 64768.43682298227, 'Brutto (m)': 2000, 'Abgaben (m)': 0, 'Sparen (m)': 0, 'Rest (m)': 2000, 'Rest infl (m)': 6562.061576730829}\n",
      "{'Alter': 85, 'Kapital': -12960.459403283778, 'Brutto (m)': 2000, 'Abgaben (m)': 0, 'Sparen (m)': 0, 'Rest (m)': 2000, 'Rest infl (m)': 6693.3028082654455}\n",
      "{'Alter': 86, 'Kapital': -95404.90415258419, 'Brutto (m)': 2000, 'Abgaben (m)': 0, 'Sparen (m)': 0, 'Rest (m)': 2000, 'Rest infl (m)': 6827.168864430755}\n",
      "{'Alter': 87, 'Kapital': -182785.64721932, 'Brutto (m)': 2000, 'Abgaben (m)': 0, 'Sparen (m)': 0, 'Rest (m)': 2000, 'Rest infl (m)': 6963.7122417193705}\n",
      "{'Alter': 88, 'Kapital': -275332.9109467379, 'Brutto (m)': 2000, 'Abgaben (m)': 0, 'Sparen (m)': 0, 'Rest (m)': 2000, 'Rest infl (m)': 7102.9864865537575}\n",
      "{'Alter': 89, 'Kapital': -373286.7819800254, 'Brutto (m)': 2000, 'Abgaben (m)': 0, 'Sparen (m)': 0, 'Rest (m)': 2000, 'Rest infl (m)': 7245.0462162848335}\n",
      "{'Alter': 90, 'Kapital': -476897.6189465528, 'Brutto (m)': 2000, 'Abgaben (m)': 0, 'Sparen (m)': 0, 'Rest (m)': 2000, 'Rest infl (m)': 7389.9471406105295}\n",
      "{'Alter': 91, 'Kapital': -586426.4767054878, 'Brutto (m)': 2000, 'Abgaben (m)': 0, 'Sparen (m)': 0, 'Rest (m)': 2000, 'Rest infl (m)': 7537.7460834227395}\n",
      "{'Alter': 92, 'Kapital': -702145.5478348017, 'Brutto (m)': 2000, 'Abgaben (m)': 0, 'Sparen (m)': 0, 'Rest (m)': 2000, 'Rest infl (m)': 7688.501005091195}\n",
      "{'Alter': 93, 'Kapital': -824338.62205051, 'Brutto (m)': 2000, 'Abgaben (m)': 0, 'Sparen (m)': 0, 'Rest (m)': 2000, 'Rest infl (m)': 7842.271025193019}\n",
      "{'Alter': 94, 'Kapital': -953301.5642808931, 'Brutto (m)': 2000, 'Abgaben (m)': 0, 'Sparen (m)': 0, 'Rest (m)': 2000, 'Rest infl (m)': 7999.11644569688}\n",
      "{'Alter': 95, 'Kapital': -1089342.8121474585, 'Brutto (m)': 2000, 'Abgaben (m)': 0, 'Sparen (m)': 0, 'Rest (m)': 2000, 'Rest infl (m)': 8159.0987746108185}\n",
      "{'Alter': 96, 'Kapital': -1232783.8936345933, 'Brutto (m)': 2000, 'Abgaben (m)': 0, 'Sparen (m)': 0, 'Rest (m)': 2000, 'Rest infl (m)': 8322.280750103035}\n",
      "{'Alter': 97, 'Kapital': -1383959.9657612382, 'Brutto (m)': 2000, 'Abgaben (m)': 0, 'Sparen (m)': 0, 'Rest (m)': 2000, 'Rest infl (m)': 8488.726365105094}\n",
      "{'Alter': 98, 'Kapital': -1543220.3751005742, 'Brutto (m)': 2000, 'Abgaben (m)': 0, 'Sparen (m)': 0, 'Rest (m)': 2000, 'Rest infl (m)': 8658.500892407197}\n",
      "{'Alter': 99, 'Kapital': -1710929.2410276614, 'Brutto (m)': 2000, 'Abgaben (m)': 0, 'Sparen (m)': 0, 'Rest (m)': 2000, 'Rest infl (m)': 8831.670910255341}\n"
     ]
    }
   ],
   "source": [
    "for row in retire:\n",
    "    print(row)"
   ]
  }
 ],
 "metadata": {
  "kernelspec": {
   "display_name": "Python 3",
   "language": "python",
   "name": "python3"
  },
  "language_info": {
   "codemirror_mode": {
    "name": "ipython",
    "version": 3
   },
   "file_extension": ".py",
   "mimetype": "text/x-python",
   "name": "python",
   "nbconvert_exporter": "python",
   "pygments_lexer": "ipython3",
   "version": "3.11.0"
  },
  "orig_nbformat": 4
 },
 "nbformat": 4,
 "nbformat_minor": 2
}
