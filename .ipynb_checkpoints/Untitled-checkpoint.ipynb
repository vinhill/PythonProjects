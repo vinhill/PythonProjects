{
 "cells": [
  {
   "cell_type": "code",
   "execution_count": 1,
   "id": "6c85d8ad",
   "metadata": {},
   "outputs": [],
   "source": [
    "import matplotlib.pyplot as plt"
   ]
  },
  {
   "cell_type": "code",
   "execution_count": 2,
   "id": "9e01f7cc",
   "metadata": {},
   "outputs": [],
   "source": [
    "FILE = \"fritz.log\""
   ]
  },
  {
   "cell_type": "code",
   "execution_count": 3,
   "id": "441567e1",
   "metadata": {},
   "outputs": [],
   "source": [
    "with open(FILE) as f:\n",
    "    data = f.readlines()"
   ]
  },
  {
   "cell_type": "code",
   "execution_count": 4,
   "id": "44d137c5",
   "metadata": {},
   "outputs": [
    {
     "data": {
      "text/plain": [
       "'25.05.23 20:49:41 Internetverbindung wurde erfolgreich hergestellt. IP-Adresse: 93.133.136.204, DNS-Server: 62.109.121.1 und 62.109.121.2, Gateway: 62.52.200.186, Breitband-PoP: AACJ01\\n'"
      ]
     },
     "execution_count": 4,
     "metadata": {},
     "output_type": "execute_result"
    }
   ],
   "source": []
  }
 ],
 "metadata": {
  "kernelspec": {
   "display_name": "Python 3 (ipykernel)",
   "language": "python",
   "name": "python3"
  },
  "language_info": {
   "codemirror_mode": {
    "name": "ipython",
    "version": 3
   },
   "file_extension": ".py",
   "mimetype": "text/x-python",
   "name": "python",
   "nbconvert_exporter": "python",
   "pygments_lexer": "ipython3",
   "version": "3.11.0"
  }
 },
 "nbformat": 4,
 "nbformat_minor": 5
}
