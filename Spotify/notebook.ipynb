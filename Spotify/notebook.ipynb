{
 "cells": [
  {
   "cell_type": "markdown",
   "metadata": {},
   "source": [
    "# Spotify API\n",
    "In this notebook, I play around with the Spotify Web API by\n",
    "- retreiving various features about the music I listen to\n",
    "- create new theme-based playlists based on these features"
   ]
  },
  {
   "cell_type": "markdown",
   "metadata": {},
   "source": [
    "## Setup: Imports and OAuth"
   ]
  },
  {
   "cell_type": "code",
   "execution_count": 36,
   "metadata": {},
   "outputs": [],
   "source": [
    "import pandas as pd\n",
    "import pickle\n",
    "import spotipy\n",
    "from spotipy.oauth2 import SpotifyClientCredentials\n",
    "\n",
    "from mysecrets import SPOTIPY_CLIENT_ID, SPOTIPY_CLIENT_SECRET"
   ]
  },
  {
   "cell_type": "code",
   "execution_count": 2,
   "metadata": {},
   "outputs": [],
   "source": [
    "auth_manager = SpotifyClientCredentials(client_secret = SPOTIPY_CLIENT_SECRET, client_id = SPOTIPY_CLIENT_ID)\n",
    "sp = spotipy.Spotify(auth_manager=auth_manager)"
   ]
  },
  {
   "cell_type": "markdown",
   "metadata": {},
   "source": [
    "## Implement Retrieval of Data"
   ]
  },
  {
   "cell_type": "markdown",
   "metadata": {},
   "source": [
    "First of all, lets retreive all tracks from our playlist."
   ]
  },
  {
   "cell_type": "code",
   "execution_count": 73,
   "metadata": {},
   "outputs": [],
   "source": [
    "def retreive_playlist_items(playlist_uri):\n",
    "    \"\"\"\n",
    "    Retreive all tracks from a playlist\n",
    "\n",
    "    Parameters\n",
    "    ----------\n",
    "    playlist_uri : str\n",
    "\n",
    "    Returns\n",
    "    -------\n",
    "    list\n",
    "        List of playlist items being dictionaries with e.g. added_at, track\n",
    "    \"\"\"\n",
    "    playlist = sp.playlist_items(playlist_uri)\n",
    "\n",
    "    total = playlist[\"total\"]\n",
    "    items = playlist[\"items\"]\n",
    "\n",
    "    # Spotify API uses pagination\n",
    "    for i in range(len(items), total, 100):\n",
    "        items.extend( sp.playlist_items(playlist_uri, offset=i, fields=[\"items\"])[\"items\"] )\n",
    "\n",
    "    return items"
   ]
  },
  {
   "cell_type": "code",
   "execution_count": 74,
   "metadata": {},
   "outputs": [],
   "source": [
    "items = retreive_playlist_items(\"https://open.spotify.com/playlist/36unN1uVgmiNnnt5ErUb06?si=1f233f6262aa4b4f\")"
   ]
  },
  {
   "cell_type": "code",
   "execution_count": 75,
   "metadata": {},
   "outputs": [
    {
     "name": "stdout",
     "output_type": "stream",
     "text": [
      "Playlist item has keys: dict_keys(['added_at', 'added_by', 'is_local', 'primary_color', 'track', 'video_thumbnail'])\n",
      "The contained track has: dict_keys(['album', 'artists', 'available_markets', 'disc_number', 'duration_ms', 'episode', 'explicit', 'external_ids', 'external_urls', 'href', 'id', 'is_local', 'name', 'popularity', 'preview_url', 'track', 'track_number', 'type', 'uri'])\n"
     ]
    }
   ],
   "source": [
    "print(f\"Playlist item has keys: {items[0].keys()}\")\n",
    "print(f\"The contained track has: {items[9]['track'].keys()}\")"
   ]
  },
  {
   "cell_type": "markdown",
   "metadata": {},
   "source": [
    "In the next step, clean up this data by removing unnecessary columns and splitting the items into several dataframes such that all columns are simple datatypes (string etc and not dict)"
   ]
  },
  {
   "cell_type": "code",
   "execution_count": 76,
   "metadata": {},
   "outputs": [],
   "source": [
    "def clean_items(items):\n",
    "    \"\"\"\n",
    "    Convert item list to dataframe and remove unnecessary columns\n",
    "\n",
    "    Parameters\n",
    "    ----------\n",
    "    items : list\n",
    "        List of playlist items being dictionaries\n",
    "\n",
    "    Returns\n",
    "    -------\n",
    "    two pandas DataFrames\n",
    "        First one with items as added_at, track uri\n",
    "        Second one with tracks as uri, name, artist, duration_ms\n",
    "    \"\"\"\n",
    "    # convert to dataframe and drop local items (not available on Spotify)\n",
    "    df_items = pd.DataFrame(items, columns=[\"added_at\", \"is_local\", \"track\"])\n",
    "    df_items = df_items[df_items[\"is_local\"] == False]\n",
    "    df_items.drop(columns=[\"is_local\"], inplace=True)\n",
    "\n",
    "    # extract track information\n",
    "    track_cols = [\n",
    "        'artists', 'duration_ms', 'name', 'popularity', 'uri'\n",
    "    ]\n",
    "    df_tracks = pd.DataFrame(df_items.track.tolist(), columns=track_cols)\n",
    "    df_items.track = df_tracks.uri\n",
    "    df_items.rename(columns={\"track\": \"track_uri\"}, inplace=True)\n",
    "    df_tracks.rename(columns={\"uri\": \"track_uri\"}, inplace=True)\n",
    "\n",
    "    return df_items, df_tracks"
   ]
  },
  {
   "cell_type": "code",
   "execution_count": 77,
   "metadata": {},
   "outputs": [
    {
     "data": {
      "text/html": [
       "<div>\n",
       "<style scoped>\n",
       "    .dataframe tbody tr th:only-of-type {\n",
       "        vertical-align: middle;\n",
       "    }\n",
       "\n",
       "    .dataframe tbody tr th {\n",
       "        vertical-align: top;\n",
       "    }\n",
       "\n",
       "    .dataframe thead th {\n",
       "        text-align: right;\n",
       "    }\n",
       "</style>\n",
       "<table border=\"1\" class=\"dataframe\">\n",
       "  <thead>\n",
       "    <tr style=\"text-align: right;\">\n",
       "      <th></th>\n",
       "      <th>artists</th>\n",
       "      <th>duration_ms</th>\n",
       "      <th>name</th>\n",
       "      <th>popularity</th>\n",
       "      <th>track_uri</th>\n",
       "    </tr>\n",
       "  </thead>\n",
       "  <tbody>\n",
       "    <tr>\n",
       "      <th>0</th>\n",
       "      <td>[{'external_urls': {'spotify': 'https://open.s...</td>\n",
       "      <td>186815</td>\n",
       "      <td>Liberation</td>\n",
       "      <td>58</td>\n",
       "      <td>spotify:track:3I0PsB3pr6PPyesjPIXjA9</td>\n",
       "    </tr>\n",
       "    <tr>\n",
       "      <th>1</th>\n",
       "      <td>[{'external_urls': {'spotify': 'https://open.s...</td>\n",
       "      <td>216729</td>\n",
       "      <td>We Are Fucking Fucked</td>\n",
       "      <td>61</td>\n",
       "      <td>spotify:track:5IumuUJqNO7K5SvniuDrBz</td>\n",
       "    </tr>\n",
       "    <tr>\n",
       "      <th>2</th>\n",
       "      <td>[{'external_urls': {'spotify': 'https://open.s...</td>\n",
       "      <td>299060</td>\n",
       "      <td>Kill Or Be Killed</td>\n",
       "      <td>52</td>\n",
       "      <td>spotify:track:4E6pemZ3WutASrphiRINbd</td>\n",
       "    </tr>\n",
       "    <tr>\n",
       "      <th>3</th>\n",
       "      <td>[{'external_urls': {'spotify': 'https://open.s...</td>\n",
       "      <td>244866</td>\n",
       "      <td>Nameless Story</td>\n",
       "      <td>43</td>\n",
       "      <td>spotify:track:1XfLeMPPmMoCrXPvj3Pe2Z</td>\n",
       "    </tr>\n",
       "    <tr>\n",
       "      <th>4</th>\n",
       "      <td>[{'external_urls': {'spotify': 'https://open.s...</td>\n",
       "      <td>233933</td>\n",
       "      <td>リトルソルジャー</td>\n",
       "      <td>42</td>\n",
       "      <td>spotify:track:4ESR8uG70TFcWKqtePEJpo</td>\n",
       "    </tr>\n",
       "  </tbody>\n",
       "</table>\n",
       "</div>"
      ],
      "text/plain": [
       "                                             artists  duration_ms  \\\n",
       "0  [{'external_urls': {'spotify': 'https://open.s...       186815   \n",
       "1  [{'external_urls': {'spotify': 'https://open.s...       216729   \n",
       "2  [{'external_urls': {'spotify': 'https://open.s...       299060   \n",
       "3  [{'external_urls': {'spotify': 'https://open.s...       244866   \n",
       "4  [{'external_urls': {'spotify': 'https://open.s...       233933   \n",
       "\n",
       "                    name  popularity                             track_uri  \n",
       "0             Liberation          58  spotify:track:3I0PsB3pr6PPyesjPIXjA9  \n",
       "1  We Are Fucking Fucked          61  spotify:track:5IumuUJqNO7K5SvniuDrBz  \n",
       "2      Kill Or Be Killed          52  spotify:track:4E6pemZ3WutASrphiRINbd  \n",
       "3         Nameless Story          43  spotify:track:1XfLeMPPmMoCrXPvj3Pe2Z  \n",
       "4               リトルソルジャー          42  spotify:track:4ESR8uG70TFcWKqtePEJpo  "
      ]
     },
     "execution_count": 77,
     "metadata": {},
     "output_type": "execute_result"
    }
   ],
   "source": [
    "df_items, df_tracks = clean_items(items)\n",
    "df_tracks.head()"
   ]
  },
  {
   "cell_type": "code",
   "execution_count": 9,
   "metadata": {},
   "outputs": [],
   "source": [
    "# utility function for pagination\n",
    "def chunks(items, size):\n",
    "    for i in range(0, len(items), size):\n",
    "        yield items[i:i + size]"
   ]
  },
  {
   "cell_type": "code",
   "execution_count": 80,
   "metadata": {},
   "outputs": [],
   "source": [
    "def extract_artists(df_tracks):\n",
    "    \"\"\"\n",
    "    Extract artists from tracks dataframe and retreive artist information\n",
    "\n",
    "    Parameters\n",
    "    ----------\n",
    "    df_tracks : pandas DataFrame\n",
    "        Dataframe with tracks\n",
    "    \n",
    "    Returns\n",
    "    -------\n",
    "    three pandas DataFrames\n",
    "        First is df_tracks without artists\n",
    "        Second one represents the relation between track and artist\n",
    "        Third are the artists\n",
    "    \"\"\"\n",
    "    # explode artists to separate rows\n",
    "    df_madeby = df_tracks[[\"track_uri\", \"artists\"]].explode(\"artists\")\n",
    "    df_madeby.artists = df_madeby.artists.apply(lambda x: x[\"uri\"])\n",
    "    df_madeby.rename(columns={\"artists\": \"artist_uri\"}, inplace=True)\n",
    "\n",
    "    # retreive artist information, respect pagination\n",
    "    artist_uris = df_madeby.artist_uri.unique()\n",
    "    artists = []\n",
    "    for chunk in chunks(artist_uris, 50):\n",
    "        artists.extend(sp.artists(chunk)[\"artists\"])\n",
    "    \n",
    "    # convert to dataframe\n",
    "    df_artists = pd.DataFrame(artists, columns=[\"followers\", \"genres\", \"uri\", \"popularity\", \"name\"])\n",
    "    df_artists.followers = df_artists.followers.apply(lambda x: x[\"total\"])\n",
    "    df_artists.rename(columns={\"uri\": \"artist_uri\"}, inplace=True)\n",
    "\n",
    "    df_tracks = df_tracks.drop(columns=[\"artists\"])\n",
    "\n",
    "    return df_tracks, df_madeby, df_artists"
   ]
  },
  {
   "cell_type": "code",
   "execution_count": 81,
   "metadata": {},
   "outputs": [],
   "source": [
    "df_tracks, df_madeby, df_artists = extract_artists(df_tracks)"
   ]
  },
  {
   "cell_type": "code",
   "execution_count": 82,
   "metadata": {},
   "outputs": [],
   "source": [
    "def extract_genres(df_artists):\n",
    "    \"\"\"\n",
    "    Extract genres from artists dataframe\n",
    "\n",
    "    Parameters\n",
    "    ----------\n",
    "    df_artists : pandas DataFrame\n",
    "        Dataframe with artists\n",
    "\n",
    "    Returns\n",
    "    -------\n",
    "    two pandas DataFrames\n",
    "        First one being the artists without genres\n",
    "        Second one being the relation between artist and genre\n",
    "    \"\"\"\n",
    "    # explode genres to separate rows\n",
    "    df_genres = df_artists[[\"artist_uri\", \"genres\"]].explode(\"genres\").rename(columns={\"genres\": \"genre\"})\n",
    "    df_artists = df_artists.drop(columns=[\"genres\"])\n",
    "\n",
    "    return df_artists, df_genres\n"
   ]
  },
  {
   "cell_type": "code",
   "execution_count": 83,
   "metadata": {},
   "outputs": [],
   "source": [
    "df_artists, df_genres = extract_genres(df_artists)"
   ]
  },
  {
   "cell_type": "markdown",
   "metadata": {},
   "source": [
    "Finally, we use the web API to retreive high-level features about our tracks."
   ]
  },
  {
   "cell_type": "code",
   "execution_count": 84,
   "metadata": {},
   "outputs": [],
   "source": [
    "def retreive_track_features(df_tracks):\n",
    "    features = list()\n",
    "    for chunk in chunks(df_tracks.track_uri, 50):\n",
    "        features.extend(sp.audio_features(chunk))\n",
    "        \n",
    "    df_features = pd.DataFrame(features)\n",
    "    df_features.drop(columns=['type', 'id', 'track_href', 'analysis_url'], inplace=True)\n",
    "    df_features.rename(columns={\"uri\": \"track_uri\"}, inplace=True)\n",
    "\n",
    "    return df_features"
   ]
  },
  {
   "cell_type": "code",
   "execution_count": 85,
   "metadata": {},
   "outputs": [],
   "source": [
    "df_features = retreive_track_features(df_tracks)"
   ]
  },
  {
   "cell_type": "markdown",
   "metadata": {},
   "source": [
    "Lets put everything together into one function"
   ]
  },
  {
   "cell_type": "code",
   "execution_count": 89,
   "metadata": {},
   "outputs": [],
   "source": [
    "def retreive_playlists(uris):\n",
    "    playlist_names = [sp.playlist(uri)[\"name\"] for uri in uris]\n",
    "\n",
    "    if len(set(playlist_names)) != len(playlist_names):\n",
    "        raise ValueError(\"Playlist names are not unique\")\n",
    "\n",
    "    df_playlists = pd.DataFrame()\n",
    "    df_alltracks = pd.DataFrame()\n",
    "    for uri, name in zip(uris, playlist_names):\n",
    "        items = retreive_playlist_items(uri)\n",
    "        df_items, df_tracks = clean_items(items)\n",
    "        # add items to playlists including name as column\n",
    "        df_items[\"playlist\"] = name\n",
    "        df_playlists = pd.concat([df_playlists, df_items])\n",
    "        df_alltracks = pd.concat([df_alltracks, df_tracks])\n",
    "    df_alltracks.drop_duplicates(inplace=True, subset=[\"track_uri\"])\n",
    "    \n",
    "    df_alltracks, df_madeby, df_artists = extract_artists(df_alltracks)\n",
    "    df_artists, df_genres = extract_genres(df_artists)\n",
    "    df_features = retreive_track_features(df_alltracks)\n",
    "\n",
    "    return {\n",
    "        \"playlists\": df_playlists,\n",
    "        \"tracks\": df_alltracks,\n",
    "        \"madeby\": df_madeby,\n",
    "        \"artists\": df_artists,\n",
    "        \"genres\": df_genres,\n",
    "        \"features\": df_features\n",
    "    }"
   ]
  },
  {
   "cell_type": "markdown",
   "metadata": {},
   "source": [
    "## Retrieve Playlists"
   ]
  },
  {
   "cell_type": "code",
   "execution_count": 87,
   "metadata": {},
   "outputs": [],
   "source": [
    "uris = [\n",
    "    \"https://open.spotify.com/playlist/36unN1uVgmiNnnt5ErUb06?si=e00e18512e2c4978\",\n",
    "    \"https://open.spotify.com/playlist/2xUcD1FSCzmBPjGgg2yfhw?si=48cc416375774d66\",\n",
    "    \"https://open.spotify.com/playlist/2Byxogq9nVx3WoMnS4OIvK?si=44c8f67052084751\",\n",
    "    \"https://open.spotify.com/playlist/7nkDhvgHMxbd8qnUyGay3b?si=50c077e607234b86\"\n",
    "]"
   ]
  },
  {
   "cell_type": "code",
   "execution_count": 90,
   "metadata": {},
   "outputs": [],
   "source": [
    "if input(\"Retreive data from API? Can take a while, prefer pickle cache. [y/n] \") == \"y\":\n",
    "    data = retreive_playlists(uris)\n",
    "    with open(\"data.pkl\", \"wb\") as f:\n",
    "        pickle.dump(data, f)"
   ]
  },
  {
   "cell_type": "code",
   "execution_count": 91,
   "metadata": {},
   "outputs": [],
   "source": [
    "with open(\"data.pkl\", \"rb\") as f:\n",
    "    data = pickle.load(f)"
   ]
  },
  {
   "cell_type": "code",
   "execution_count": 92,
   "metadata": {},
   "outputs": [
    {
     "name": "stdout",
     "output_type": "stream",
     "text": [
      "Retreived playlists: ['favourites' 'Schulzeit' 'Party :D' 'Party']\n",
      "Number of tracks: 1310\n",
      "Available tables\n",
      "\tplaylists, columns: ['added_at', 'track_uri', 'playlist']\n",
      "\ttracks, columns: ['duration_ms', 'name', 'popularity', 'track_uri']\n",
      "\tmadeby, columns: ['track_uri', 'artist_uri']\n",
      "\tartists, columns: ['followers', 'artist_uri', 'popularity', 'name']\n",
      "\tgenres, columns: ['artist_uri', 'genre']\n",
      "\tfeatures, columns: ['danceability', 'energy', 'key', 'loudness', 'mode', 'speechiness', 'acousticness', 'instrumentalness', 'liveness', 'valence', 'tempo', 'track_uri', 'duration_ms', 'time_signature']\n"
     ]
    }
   ],
   "source": [
    "print(f\"Retreived playlists: {data['playlists'].playlist.unique()}\")\n",
    "print(f\"Number of tracks: {len(data['tracks'])}\")\n",
    "print(f\"Available tables\")\n",
    "for k, v in data.items():\n",
    "    print(f\"\\t{k}, columns: {list(v.columns)}\")"
   ]
  },
  {
   "cell_type": "code",
   "execution_count": 95,
   "metadata": {},
   "outputs": [],
   "source": [
    "df_playlists = data[\"playlists\"]\n",
    "df_tracks = data[\"tracks\"]\n",
    "df_madeby = data[\"madeby\"]\n",
    "df_artists = data[\"artists\"]\n",
    "df_genres = data[\"genres\"]\n",
    "df_features = data[\"features\"]"
   ]
  },
  {
   "cell_type": "markdown",
   "metadata": {},
   "source": [
    "## Exploratory Analysis"
   ]
  },
  {
   "cell_type": "markdown",
   "metadata": {},
   "source": [
    "### Which artists are most common in favourites?"
   ]
  },
  {
   "cell_type": "code",
   "execution_count": 100,
   "metadata": {},
   "outputs": [
    {
     "data": {
      "text/html": [
       "<div>\n",
       "<style scoped>\n",
       "    .dataframe tbody tr th:only-of-type {\n",
       "        vertical-align: middle;\n",
       "    }\n",
       "\n",
       "    .dataframe tbody tr th {\n",
       "        vertical-align: top;\n",
       "    }\n",
       "\n",
       "    .dataframe thead th {\n",
       "        text-align: right;\n",
       "    }\n",
       "</style>\n",
       "<table border=\"1\" class=\"dataframe\">\n",
       "  <thead>\n",
       "    <tr style=\"text-align: right;\">\n",
       "      <th></th>\n",
       "      <th>name</th>\n",
       "      <th>count</th>\n",
       "    </tr>\n",
       "  </thead>\n",
       "  <tbody>\n",
       "    <tr>\n",
       "      <th>0</th>\n",
       "      <td>Fall Out Boy</td>\n",
       "      <td>23</td>\n",
       "    </tr>\n",
       "    <tr>\n",
       "      <th>1</th>\n",
       "      <td>Muse</td>\n",
       "      <td>20</td>\n",
       "    </tr>\n",
       "    <tr>\n",
       "      <th>2</th>\n",
       "      <td>Alligatoah</td>\n",
       "      <td>12</td>\n",
       "    </tr>\n",
       "    <tr>\n",
       "      <th>3</th>\n",
       "      <td>My Chemical Romance</td>\n",
       "      <td>10</td>\n",
       "    </tr>\n",
       "    <tr>\n",
       "      <th>4</th>\n",
       "      <td>The Wombats</td>\n",
       "      <td>9</td>\n",
       "    </tr>\n",
       "    <tr>\n",
       "      <th>5</th>\n",
       "      <td>Queen</td>\n",
       "      <td>8</td>\n",
       "    </tr>\n",
       "    <tr>\n",
       "      <th>6</th>\n",
       "      <td>Foo Fighters</td>\n",
       "      <td>7</td>\n",
       "    </tr>\n",
       "    <tr>\n",
       "      <th>7</th>\n",
       "      <td>Eminem</td>\n",
       "      <td>7</td>\n",
       "    </tr>\n",
       "    <tr>\n",
       "      <th>8</th>\n",
       "      <td>All Time Low</td>\n",
       "      <td>6</td>\n",
       "    </tr>\n",
       "    <tr>\n",
       "      <th>9</th>\n",
       "      <td>Panic! At The Disco</td>\n",
       "      <td>6</td>\n",
       "    </tr>\n",
       "  </tbody>\n",
       "</table>\n",
       "</div>"
      ],
      "text/plain": [
       "                  name  count\n",
       "0         Fall Out Boy     23\n",
       "1                 Muse     20\n",
       "2           Alligatoah     12\n",
       "3  My Chemical Romance     10\n",
       "4          The Wombats      9\n",
       "5                Queen      8\n",
       "6         Foo Fighters      7\n",
       "7               Eminem      7\n",
       "8         All Time Low      6\n",
       "9  Panic! At The Disco      6"
      ]
     },
     "execution_count": 100,
     "metadata": {},
     "output_type": "execute_result"
    }
   ],
   "source": [
    "artist_count = df_playlists[df_playlists[\"playlist\"] == \"favourites\"] \\\n",
    "    .merge(df_madeby, on=\"track_uri\") \\\n",
    "    .merge(df_artists, on=\"artist_uri\") \\\n",
    "    .groupby(\"name\") \\\n",
    "    .count() \\\n",
    "    .sort_values(\"artist_uri\", ascending=False) \\\n",
    "    .artist_uri \\\n",
    "    .reset_index() \\\n",
    "    .rename(columns={\"artist_uri\": \"count\"})\n",
    "artist_count.head(10)"
   ]
  },
  {
   "cell_type": "markdown",
   "metadata": {},
   "source": [
    "### Most popular artists with more than two songs in favourites"
   ]
  },
  {
   "cell_type": "code",
   "execution_count": 102,
   "metadata": {},
   "outputs": [
    {
     "data": {
      "text/html": [
       "<div>\n",
       "<style scoped>\n",
       "    .dataframe tbody tr th:only-of-type {\n",
       "        vertical-align: middle;\n",
       "    }\n",
       "\n",
       "    .dataframe tbody tr th {\n",
       "        vertical-align: top;\n",
       "    }\n",
       "\n",
       "    .dataframe thead th {\n",
       "        text-align: right;\n",
       "    }\n",
       "</style>\n",
       "<table border=\"1\" class=\"dataframe\">\n",
       "  <thead>\n",
       "    <tr style=\"text-align: right;\">\n",
       "      <th></th>\n",
       "      <th>name</th>\n",
       "      <th>popularity</th>\n",
       "      <th>count</th>\n",
       "    </tr>\n",
       "  </thead>\n",
       "  <tbody>\n",
       "    <tr>\n",
       "      <th>0</th>\n",
       "      <td>Eminem</td>\n",
       "      <td>90</td>\n",
       "      <td>7</td>\n",
       "    </tr>\n",
       "    <tr>\n",
       "      <th>1</th>\n",
       "      <td>Arctic Monkeys</td>\n",
       "      <td>87</td>\n",
       "      <td>3</td>\n",
       "    </tr>\n",
       "    <tr>\n",
       "      <th>2</th>\n",
       "      <td>Imagine Dragons</td>\n",
       "      <td>87</td>\n",
       "      <td>5</td>\n",
       "    </tr>\n",
       "    <tr>\n",
       "      <th>3</th>\n",
       "      <td>Maroon 5</td>\n",
       "      <td>84</td>\n",
       "      <td>3</td>\n",
       "    </tr>\n",
       "    <tr>\n",
       "      <th>4</th>\n",
       "      <td>Queen</td>\n",
       "      <td>84</td>\n",
       "      <td>8</td>\n",
       "    </tr>\n",
       "    <tr>\n",
       "      <th>5</th>\n",
       "      <td>Elton John</td>\n",
       "      <td>84</td>\n",
       "      <td>3</td>\n",
       "    </tr>\n",
       "    <tr>\n",
       "      <th>6</th>\n",
       "      <td>Metallica</td>\n",
       "      <td>81</td>\n",
       "      <td>3</td>\n",
       "    </tr>\n",
       "    <tr>\n",
       "      <th>7</th>\n",
       "      <td>Lil Nas X</td>\n",
       "      <td>81</td>\n",
       "      <td>3</td>\n",
       "    </tr>\n",
       "    <tr>\n",
       "      <th>8</th>\n",
       "      <td>AC/DC</td>\n",
       "      <td>80</td>\n",
       "      <td>4</td>\n",
       "    </tr>\n",
       "    <tr>\n",
       "      <th>9</th>\n",
       "      <td>Guns N' Roses</td>\n",
       "      <td>79</td>\n",
       "      <td>5</td>\n",
       "    </tr>\n",
       "  </tbody>\n",
       "</table>\n",
       "</div>"
      ],
      "text/plain": [
       "              name  popularity  count\n",
       "0           Eminem          90      7\n",
       "1   Arctic Monkeys          87      3\n",
       "2  Imagine Dragons          87      5\n",
       "3         Maroon 5          84      3\n",
       "4            Queen          84      8\n",
       "5       Elton John          84      3\n",
       "6        Metallica          81      3\n",
       "7        Lil Nas X          81      3\n",
       "8            AC/DC          80      4\n",
       "9    Guns N' Roses          79      5"
      ]
     },
     "execution_count": 102,
     "metadata": {},
     "output_type": "execute_result"
    }
   ],
   "source": [
    "popular_artists = df_playlists[df_playlists[\"playlist\"] == \"favourites\"] \\\n",
    "    .merge(df_madeby, on=\"track_uri\") \\\n",
    "    .merge(df_artists, on=\"artist_uri\") \\\n",
    "    .groupby([\"name\", \"popularity\"]) \\\n",
    "    .count() \\\n",
    "    .query(\"artist_uri > 2\") \\\n",
    "    .sort_values(\"popularity\", ascending=False) \\\n",
    "    .artist_uri \\\n",
    "    .reset_index() \\\n",
    "    .rename(columns={\"artist_uri\": \"count\"})\n",
    "popular_artists.head(10)"
   ]
  },
  {
   "cell_type": "markdown",
   "metadata": {},
   "source": [
    "### Cluster favourites playlist"
   ]
  },
  {
   "cell_type": "code",
   "execution_count": 103,
   "metadata": {},
   "outputs": [],
   "source": [
    "df_favs = df_playlists[df_playlists[\"playlist\"] == \"favourites\"] \\\n",
    "    .merge(df_features, on=\"track_uri\")"
   ]
  },
  {
   "cell_type": "code",
   "execution_count": 132,
   "metadata": {},
   "outputs": [],
   "source": [
    "import numpy as np\n",
    "import seaborn as sns\n",
    "import matplotlib.pyplot as plt\n",
    "from sklearn.cluster import MeanShift, estimate_bandwidth\n",
    "from sklearn.preprocessing import StandardScaler\n",
    "from sklearn.decomposition import PCA"
   ]
  },
  {
   "cell_type": "code",
   "execution_count": 127,
   "metadata": {},
   "outputs": [
    {
     "data": {
      "image/png": "[encoded data removed]",
      "text/plain": [
       "<Figure size 640x480 with 1 Axes>"
      ]
     },
     "metadata": {},
     "output_type": "display_data"
    }
   ],
   "source": [
    "# perform clustering through mean shift\n",
    "scaler = StandardScaler()\n",
    "X = scaler.fit_transform(df_favs[[\"danceability\", \"energy\", \"loudness\", \"speechiness\", \"acousticness\", \"instrumentalness\", \"liveness\", \"valence\", \"tempo\"]])\n",
    "bandwidth = estimate_bandwidth(X, quantile=0.2, n_samples=500)\n",
    "ms = MeanShift(bandwidth=bandwidth, bin_seeding=True)\n",
    "ms.fit(X)\n",
    "labels = ms.labels_\n",
    "# plot dimensionally reduced\n",
    "pca = PCA(n_components=2)\n",
    "X_pca = pca.fit_transform(X)\n",
    "sns.scatterplot(x=X_pca[:, 0], y=X_pca[:, 1], hue=labels, palette=\"Set2\")\n",
    "plt.show()"
   ]
  },
  {
   "cell_type": "code",
   "execution_count": 136,
   "metadata": {},
   "outputs": [
    {
     "data": {
      "text/plain": [
       "array([322,   8,   3,   1,   2,   1,   2,   3,   1,   5,  16], dtype=int64)"
      ]
     },
     "execution_count": 136,
     "metadata": {},
     "output_type": "execute_result"
    }
   ],
   "source": [
    "np.bincount(labels)"
   ]
  },
  {
   "cell_type": "code",
   "execution_count": 142,
   "metadata": {},
   "outputs": [
    {
     "data": {
      "text/html": [
       "<div>\n",
       "<style scoped>\n",
       "    .dataframe tbody tr th:only-of-type {\n",
       "        vertical-align: middle;\n",
       "    }\n",
       "\n",
       "    .dataframe tbody tr th {\n",
       "        vertical-align: top;\n",
       "    }\n",
       "\n",
       "    .dataframe thead th {\n",
       "        text-align: right;\n",
       "    }\n",
       "</style>\n",
       "<table border=\"1\" class=\"dataframe\">\n",
       "  <thead>\n",
       "    <tr style=\"text-align: right;\">\n",
       "      <th></th>\n",
       "      <th>duration_ms</th>\n",
       "      <th>name</th>\n",
       "      <th>popularity</th>\n",
       "      <th>track_uri</th>\n",
       "    </tr>\n",
       "  </thead>\n",
       "  <tbody>\n",
       "    <tr>\n",
       "      <th>0</th>\n",
       "      <td>186815</td>\n",
       "      <td>Liberation</td>\n",
       "      <td>58</td>\n",
       "      <td>spotify:track:3I0PsB3pr6PPyesjPIXjA9</td>\n",
       "    </tr>\n",
       "    <tr>\n",
       "      <th>1</th>\n",
       "      <td>216729</td>\n",
       "      <td>We Are Fucking Fucked</td>\n",
       "      <td>61</td>\n",
       "      <td>spotify:track:5IumuUJqNO7K5SvniuDrBz</td>\n",
       "    </tr>\n",
       "    <tr>\n",
       "      <th>2</th>\n",
       "      <td>299060</td>\n",
       "      <td>Kill Or Be Killed</td>\n",
       "      <td>52</td>\n",
       "      <td>spotify:track:4E6pemZ3WutASrphiRINbd</td>\n",
       "    </tr>\n",
       "    <tr>\n",
       "      <th>7</th>\n",
       "      <td>271826</td>\n",
       "      <td>On The Mend</td>\n",
       "      <td>42</td>\n",
       "      <td>spotify:track:39kHMfF3dBMZMbOtoit1XF</td>\n",
       "    </tr>\n",
       "    <tr>\n",
       "      <th>15</th>\n",
       "      <td>404106</td>\n",
       "      <td>Stan</td>\n",
       "      <td>84</td>\n",
       "      <td>spotify:track:3UmaczJpikHgJFyBTAJVoz</td>\n",
       "    </tr>\n",
       "    <tr>\n",
       "      <th>204</th>\n",
       "      <td>252933</td>\n",
       "      <td>Now I'm Here - Remastered 2011</td>\n",
       "      <td>49</td>\n",
       "      <td>spotify:track:5v1osKVFv3rXWb1VJDO9pW</td>\n",
       "    </tr>\n",
       "  </tbody>\n",
       "</table>\n",
       "</div>"
      ],
      "text/plain": [
       "     duration_ms                            name  popularity  \\\n",
       "0         186815                      Liberation          58   \n",
       "1         216729           We Are Fucking Fucked          61   \n",
       "2         299060               Kill Or Be Killed          52   \n",
       "7         271826                     On The Mend          42   \n",
       "15        404106                            Stan          84   \n",
       "204       252933  Now I'm Here - Remastered 2011          49   \n",
       "\n",
       "                                track_uri  \n",
       "0    spotify:track:3I0PsB3pr6PPyesjPIXjA9  \n",
       "1    spotify:track:5IumuUJqNO7K5SvniuDrBz  \n",
       "2    spotify:track:4E6pemZ3WutASrphiRINbd  \n",
       "7    spotify:track:39kHMfF3dBMZMbOtoit1XF  \n",
       "15   spotify:track:3UmaczJpikHgJFyBTAJVoz  \n",
       "204  spotify:track:5v1osKVFv3rXWb1VJDO9pW  "
      ]
     },
     "execution_count": 142,
     "metadata": {},
     "output_type": "execute_result"
    }
   ],
   "source": [
    "# for each ms cluster, print track closest to center\n",
    "cluster_centre = []\n",
    "for i in range(len(np.bincount(labels))):\n",
    "    c = df_favs.iloc[np.argmin(np.linalg.norm(X[labels == i] - ms.cluster_centers_[i], axis=1))][\"track_uri\"]\n",
    "    cluster_centre.append(c)\n",
    "# print the names of these tracks using df_tracks\n",
    "df_tracks[df_tracks[\"track_uri\"].isin(cluster_centre)]"
   ]
  },
  {
   "cell_type": "markdown",
   "metadata": {},
   "source": [
    "## Create theme-based playlists"
   ]
  },
  {
   "cell_type": "code",
   "execution_count": 155,
   "metadata": {},
   "outputs": [],
   "source": [
    "def pasteable_playlist(uris):\n",
    "    uris = [uri.replace(\"spotify:track:\", \"https://open.spotify.com/track/\") for uri in uris]\n",
    "    res = \"\\n\".join(uris)\n",
    "    return res"
   ]
  },
  {
   "cell_type": "markdown",
   "metadata": {},
   "source": [
    "### Dancing"
   ]
  },
  {
   "cell_type": "code",
   "execution_count": null,
   "metadata": {},
   "outputs": [],
   "source": [
    "df_dance = df_playlists[df_playlists[\"playlist\"] != \"Schulzeit\"] \\\n",
    "    .merge(df_features, on=\"track_uri\") \\\n",
    "    .sort_values(\"danceability\", ascending=False)\n",
    "print(pasteable_playlist(df_dance.track_uri.unique()[:50]))"
   ]
  },
  {
   "cell_type": "markdown",
   "metadata": {},
   "source": [
    "### Upbeat\n",
    "\n",
    "energy > 0.7 and valence > 0.5 and instrumentalness < 0.2 and danceability > 0.6"
   ]
  },
  {
   "cell_type": "code",
   "execution_count": 143,
   "metadata": {},
   "outputs": [],
   "source": [
    "df_upbeat = df_playlists[df_playlists[\"playlist\"] == \"favourites\"] \\\n",
    "    .merge(df_features, on=\"track_uri\") \\\n",
    "    .query(\"energy > 0.7 and valence > 0.5 and instrumentalness < 0.2 and danceability > 0.6\") \\\n",
    "    .sort_values(lambda x: x[\"energy\"] + x[\"valence\"] + x[\"danceability\"], ascending=False)\n",
    "print(pasteable_playlist(df_upbeat.head(50)[\"track_uri\"].values))"
   ]
  }
 ],
 "metadata": {
  "kernelspec": {
   "display_name": "Python 3.8.13 ('default')",
   "language": "python",
   "name": "python3"
  },
  "language_info": {
   "codemirror_mode": {
    "name": "ipython",
    "version": 3
   },
   "file_extension": ".py",
   "mimetype": "text/x-python",
   "name": "python",
   "nbconvert_exporter": "python",
   "pygments_lexer": "ipython3",
   "version": "3.8.13"
  },
  "orig_nbformat": 4,
  "vscode": {
   "interpreter": {
    "hash": "0937b2032cd9a7151cd1f2929d135ce2abd29d54390df15f1c1212cb5cdd5fa9"
   }
  }
 },
 "nbformat": 4,
 "nbformat_minor": 2
}
